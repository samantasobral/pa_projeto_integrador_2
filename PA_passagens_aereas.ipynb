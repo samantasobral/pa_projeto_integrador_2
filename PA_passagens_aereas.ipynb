{
 "cells": [
  {
   "cell_type": "markdown",
   "id": "adeef440",
   "metadata": {},
   "source": [
    "# Notebook do Projeto do Aluno \n",
    "## Matéria: Projeto Integrador II"
   ]
  },
  {
   "cell_type": "markdown",
   "id": "8577b5f3",
   "metadata": {},
   "source": [
    "## O Problema de Negócio"
   ]
  },
  {
   "cell_type": "markdown",
   "id": "7e6202d0",
   "metadata": {},
   "source": [
    "- Contexto:\n",
    "\n",
    "A indústria de aviação comercial tem enfrentado desafios crescentes em um mercado altamente competitivo e sensível a preços. A decisão de compra de uma passagem aérea é influenciada por diversos fatores, como data da viagem, demanda, políticas de preços das companhias aéreas e até condições econômicas. Além disso, as passagens aéreas são um dos produtos mais dinâmicos em termos de variação de preço, com tarifas mudando frequentemente, conforme a demanda e a proximidade da data de voo.\n",
    "\n",
    "Atualmente, muitas empresas que fornecem serviços de vendas de passagens aéreas agregam as ofertas de várias companhias, permitindo que os clientes comparem e comprem passagens pelo menor preço. No entanto, essa variação de preços dificulta tanto a precificação quanto a otimização de receita. A falta de previsibilidade no preço das passagens faz com que a empresa tenha dificuldades em oferecer os melhores preços no momento adequado, o que pode resultar em perdas de oportunidades de vendas ou margens reduzidas.\n",
    "\n",
    "- Objetivo do Desafio:\n",
    "\n",
    "Neste cenário, você trabalha como Cientista de Dados para uma empresa fictícia de venda de passagens aéreas online. O CEO da empresa está preocupado com a imprevisibilidade dos preços das passagens, o que tem impactado a capacidade de oferecer as melhores tarifas e, ao mesmo tempo, manter a lucratividade. A empresa atualmente enfrenta perdas devido a margens reduzidas causadas pela falta de um processo preditivo eficiente para ajuste de preços.\n",
    "\n",
    "O objetivo deste projeto é desenvolver um modelo de Machine Learning que seja capaz de prever com precisão o preço das passagens aéreas, considerando várias features relacionadas à data da viagem, rota, demanda, entre outros fatores. Com uma previsão precisa dos preços, a empresa poderá ajustar suas ofertas de maneira proativa, maximizando a conversão de vendas e a lucratividade.\n",
    "\n",
    "Suponha que o erro médio no preço das passagens, sem um modelo preditivo, resulta em uma perda financeira estimada de $5000 por venda, devido à oferta de preços inadequados (acima ou abaixo do valor ótimo). Com uma estimativa de 200.000 vendas no próximo ano, essa ineficiência representa uma perda potencial de $1Bi. A implementação de um modelo com um RMSE mais baixo poderá reduzir significativamente essa perda, aumentando as margens de lucro da empresa.\n",
    "\n",
    "- Baseline:\n",
    "\n"
   ]
  }
 ],
 "metadata": {
  "language_info": {
   "name": "python"
  }
 },
 "nbformat": 4,
 "nbformat_minor": 5
}
