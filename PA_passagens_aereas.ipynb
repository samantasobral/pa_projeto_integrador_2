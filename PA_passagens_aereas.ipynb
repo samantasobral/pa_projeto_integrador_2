{
 "cells": [
  {
   "cell_type": "markdown",
   "id": "adeef440",
   "metadata": {},
   "source": [
    "# Notebook do Projeto do Aluno \n",
    "## Matéria: Projeto Integrador II"
   ]
  },
  {
   "cell_type": "markdown",
   "id": "8577b5f3",
   "metadata": {},
   "source": [
    "## O Problema de Negócio"
   ]
  },
  {
   "cell_type": "markdown",
   "id": "7e6202d0",
   "metadata": {},
   "source": [
    "- Contexto:\n",
    "\n",
    "A indústria de aviação comercial tem enfrentado desafios crescentes em um mercado altamente competitivo e sensível a preços. A decisão de compra de uma passagem aérea é influenciada por diversos fatores, como data da viagem, demanda, políticas de preços das companhias aéreas e até condições econômicas. Além disso, as passagens aéreas são um dos produtos mais dinâmicos em termos de variação de preço, com tarifas mudando frequentemente, conforme a demanda e a proximidade da data de voo.\n",
    "\n",
    "Atualmente, muitas empresas que fornecem serviços de vendas de passagens aéreas agregam as ofertas de várias companhias, permitindo que os clientes comparem e comprem passagens pelo menor preço. No entanto, essa variação de preços dificulta tanto a precificação quanto a otimização de receita. A falta de previsibilidade no preço das passagens faz com que a empresa tenha dificuldades em oferecer os melhores preços no momento adequado, o que pode resultar em perdas de oportunidades de vendas ou margens reduzidas.\n",
    "\n",
    "- Objetivo do Desafio:\n",
    "\n",
    "Neste cenário, você trabalha como Cientista de Dados para uma empresa fictícia de venda de passagens aéreas online. O CEO da empresa está preocupado com a imprevisibilidade dos preços das passagens, o que tem impactado a capacidade de oferecer as melhores tarifas e, ao mesmo tempo, manter a lucratividade. A empresa atualmente enfrenta perdas devido a margens reduzidas causadas pela falta de um processo preditivo eficiente para ajuste de preços.\n",
    "\n",
    "O objetivo deste projeto é desenvolver um modelo de Machine Learning que seja capaz de prever com precisão o preço das passagens aéreas, considerando várias features relacionadas à data da viagem, rota, demanda, entre outros fatores. Com uma previsão precisa dos preços, a empresa poderá ajustar suas ofertas de maneira proativa, maximizando a conversão de vendas e a lucratividade.\n",
    "\n",
    "Suponha que o erro médio no preço das passagens, sem um modelo preditivo, resulta em uma perda financeira estimada de $5000 por venda, devido à oferta de preços inadequados (acima ou abaixo do valor ótimo). Com uma estimativa de 200.000 vendas no próximo ano, essa ineficiência representa uma perda potencial de $1Bi. A implementação de um modelo com um RMSE mais baixo poderá reduzir significativamente essa perda, aumentando as margens de lucro da empresa.\n",
    "\n",
    "- Baseline:\n",
    "\n",
    "Perda financeira por venda: $ 5000\n",
    "\n",
    "RMSE atual =  desvio-padrão da base\n"
   ]
  },
  {
   "cell_type": "markdown",
   "id": "8aaf6b70",
   "metadata": {},
   "source": [
    "- Variáveis:\n",
    "\n",
    "Companhia Aérea: O nome da companhia aérea está armazenado na coluna de companhia aérea. É uma feature categórica com 6 companhias aéreas diferentes.\n",
    "\n",
    "Voo: Armazena informações sobre o código do voo do avião. É uma feature categórica.\n",
    "\n",
    "Cidade de Origem: A cidade de onde o voo decola. É uma feature categórica com 6 cidades únicas.\n",
    "\n",
    "Hora de Partida: Esta é uma feature categórica derivada, criada ao agrupar os períodos de tempo em intervalos. Armazena informações sobre o horário de partida e tem 6 rótulos de tempo únicos.\n",
    "\n",
    "Escalas: Uma feature categórica com 3 valores distintos que armazena o número de escalas entre as cidades de origem e destino.\n",
    "\n",
    "Hora de Chegada: Esta é uma feature categórica derivada, criada ao agrupar intervalos de tempo em faixas. Possui seis rótulos de tempo distintos e mantém informações sobre o horário de chegada.\n",
    "\n",
    "Cidade de Destino: A cidade onde o voo vai pousar. É uma feature categórica com 6 cidades únicas.\n",
    "\n",
    "Classe: Uma feature categórica que contém informações sobre a classe dos assentos; possui dois valores distintos: Executiva e Econômica.\n",
    "\n",
    "Duração: Uma feature contínua que mostra o tempo total de viagem entre as cidades, em horas.\n",
    "\n",
    "Dias Restantes: Esta é uma característica derivada, calculada subtraindo a data da viagem pela data da reserva.\n",
    "\n",
    "Preço: A variável alvo que armazena informações sobre o preço do bilhete."
   ]
  },
  {
   "cell_type": "markdown",
   "id": "52502750",
   "metadata": {},
   "source": [
    "## Imports:"
   ]
  },
  {
   "cell_type": "code",
   "execution_count": null,
   "id": "67db9b84",
   "metadata": {},
   "outputs": [],
   "source": [
    "import warnings\n",
    "warnings.filterwarnings('ignore')\n",
    "\n",
    "import re\n",
    "import pandas as pd\n",
    "import numpy as np\n",
    "import seaborn as sns\n",
    "import matplotlib.pyplot as plt\n",
    "import pickle\n",
    "from boruta import BorutaPy\n",
    "from IPython.display import Image, HTML\n",
    "from datetime import datetime\n",
    "from geopy.distance import geodesic\n",
    "from sklearn.preprocessing import RobustScaler, LabelEncoder, MinMaxScaler\n",
    "from matplotlib.gridspec import GridSpec\n",
    "from matplotlib.ticker import FuncFormatter\n",
    "from sklearn.model_selection import train_test_split, KFold, GridSearchCV, RandomizedSearchCV, cross_val_score\n",
    "from sklearn.ensemble import RandomForestRegressor\n",
    "from sklearn.linear_model import Lasso, LinearRegression\n",
    "from sklearn.tree import DecisionTreeRegressor\n",
    "from sklearn.neighbors import KNeighborsRegressor\n",
    "from sklearn.svm import SVR\n",
    "from sklearn.neural_network import MLPRegressor\n",
    "from sklearn.feature_selection import SelectFromModel\n",
    "from sklearn.metrics import mean_absolute_error, mean_squared_error, r2_score\n",
    "from lightgbm import LGBMRegressor\n",
    "from bayes_opt import BayesianOptimization\n",
    "\n",
    "pd.set_option('display.float_format', '{:.2f}'.format)\n",
    "pd.set_option('display.max_columns', None)\n"
   ]
  },
  {
   "cell_type": "markdown",
   "id": "2510f6e8",
   "metadata": {},
   "source": [
    "## Funções:"
   ]
  },
  {
   "cell_type": "code",
   "execution_count": null,
   "id": "8eea72eb",
   "metadata": {},
   "outputs": [],
   "source": []
  },
  {
   "cell_type": "markdown",
   "id": "5c4dc195",
   "metadata": {},
   "source": [
    "## Dataset:"
   ]
  },
  {
   "cell_type": "code",
   "execution_count": 30,
   "id": "422a0a7b",
   "metadata": {},
   "outputs": [],
   "source": [
    "df_raw = pd.read_csv('data/dados_passagens.csv')"
   ]
  },
  {
   "cell_type": "code",
   "execution_count": 31,
   "id": "581c045c",
   "metadata": {},
   "outputs": [],
   "source": [
    "df_raw.rename(columns={'Unnamed: 0': 'desconhecido', \n",
    "                       'date': 'data_voo', \n",
    "                       'airline': 'cia_aerea', \n",
    "                       'ch_code': 'ch_code', \n",
    "                       'num_code': 'num_code', \n",
    "                       'dep_time': 'hora_partida',\n",
    "                       'from': 'cidade_origem', \n",
    "                       'time_taken': 'duracao', \n",
    "                       'stop': 'escalas', \n",
    "                       'arr_time': 'hora_chegada', \n",
    "                       'to': 'cidade_destino', \n",
    "                       'price': 'preco', \n",
    "                       'days_left': 'dias_restantes'}, inplace=True)"
   ]
  },
  {
   "cell_type": "code",
   "execution_count": 32,
   "id": "9ecc8949",
   "metadata": {},
   "outputs": [],
   "source": [
    "#criando a coluna de código do vôo:\n",
    "df_raw['cd_voo'] = df_raw['ch_code'] + df_raw['num_code'].astype(str)\n",
    "\n",
    "#excluindo as colunas de ch_code e num_code:\n",
    "df_raw.drop(columns = ['ch_code', 'num_code'], inplace = True)"
   ]
  },
  {
   "cell_type": "markdown",
   "id": "551e6673",
   "metadata": {},
   "source": [
    "## 1.0 Descrição dos Dados:"
   ]
  },
  {
   "cell_type": "code",
   "execution_count": 57,
   "id": "d00c13a3",
   "metadata": {},
   "outputs": [],
   "source": [
    "df1 = df_raw.copy()"
   ]
  },
  {
   "cell_type": "markdown",
   "id": "50817d16",
   "metadata": {},
   "source": [
    "### 1.1 Dimensão dos Dados"
   ]
  },
  {
   "cell_type": "code",
   "execution_count": 34,
   "id": "de2f9fb8",
   "metadata": {},
   "outputs": [
    {
     "name": "stdout",
     "output_type": "stream",
     "text": [
      "Quantidade de linhas: 206774\n",
      "Quantidade de colunas: 12\n"
     ]
    }
   ],
   "source": [
    "print(\"Quantidade de linhas: {}\".format(df1.shape[0]))\n",
    "print(\"Quantidade de colunas: {}\".format(df1.shape[1]))"
   ]
  },
  {
   "cell_type": "markdown",
   "id": "276f0755",
   "metadata": {},
   "source": [
    "### 1.2 Tipos de Dados"
   ]
  },
  {
   "cell_type": "code",
   "execution_count": 35,
   "id": "176c0efe",
   "metadata": {},
   "outputs": [
    {
     "data": {
      "text/plain": [
       "desconhecido       int64\n",
       "data_voo          object\n",
       "cia_aerea         object\n",
       "hora_partida      object\n",
       "cidade_origem     object\n",
       "duracao           object\n",
       "escalas           object\n",
       "hora_chegada      object\n",
       "cidade_destino    object\n",
       "preco             object\n",
       "dias_restantes     int64\n",
       "cd_voo            object\n",
       "dtype: object"
      ]
     },
     "execution_count": 35,
     "metadata": {},
     "output_type": "execute_result"
    }
   ],
   "source": [
    "df1.dtypes"
   ]
  },
  {
   "cell_type": "markdown",
   "id": "f513907d",
   "metadata": {},
   "source": [
    "### 1.3 Checando Dados Nulos"
   ]
  },
  {
   "cell_type": "code",
   "execution_count": 36,
   "id": "77fca5b4",
   "metadata": {},
   "outputs": [
    {
     "data": {
      "text/plain": [
       "desconhecido      0\n",
       "data_voo          0\n",
       "cia_aerea         0\n",
       "hora_partida      0\n",
       "cidade_origem     0\n",
       "duracao           0\n",
       "escalas           0\n",
       "hora_chegada      0\n",
       "cidade_destino    0\n",
       "preco             0\n",
       "dias_restantes    0\n",
       "cd_voo            0\n",
       "dtype: int64"
      ]
     },
     "execution_count": 36,
     "metadata": {},
     "output_type": "execute_result"
    }
   ],
   "source": [
    "df1.isna().sum()"
   ]
  },
  {
   "cell_type": "markdown",
   "id": "cd4c1ad0",
   "metadata": {},
   "source": [
    "### 1.4 Ajustando os Tipos de Dados"
   ]
  },
  {
   "cell_type": "code",
   "execution_count": null,
   "id": "e21b0578",
   "metadata": {},
   "outputs": [],
   "source": [
    "df1['preco'] = df1['preco'].astype(str).str.replace(',', '', regex=False).astype(int)\n",
    "df1['dias_restantes'] = df1['dias_restantes'].astype('int64')\n",
    "df1['data_voo'] = pd.to_datetime(df1['data_voo'], format='%d-%m-%Y')\n",
    "df1['hora_partida'] = pd.to_datetime(df1['hora_partida'], format='%H:%M').dt.time\n",
    "df1['hora_chegada'] = pd.to_datetime(df1['hora_chegada'], format='%H:%M').dt.time\n",
    "df1['duracao'] = pd.to_timedelta(\n",
    "    df1['duracao'].str.replace('h', ' hours ').str.replace('m', ' minutes'),\n",
    "    errors='coerce')"
   ]
  },
  {
   "cell_type": "code",
   "execution_count": null,
   "id": "8bb61466",
   "metadata": {},
   "outputs": [],
   "source": []
  }
 ],
 "metadata": {
  "kernelspec": {
   "display_name": "projeto_integrador",
   "language": "python",
   "name": "python3"
  },
  "language_info": {
   "codemirror_mode": {
    "name": "ipython",
    "version": 3
   },
   "file_extension": ".py",
   "mimetype": "text/x-python",
   "name": "python",
   "nbconvert_exporter": "python",
   "pygments_lexer": "ipython3",
   "version": "3.11.13"
  }
 },
 "nbformat": 4,
 "nbformat_minor": 5
}
